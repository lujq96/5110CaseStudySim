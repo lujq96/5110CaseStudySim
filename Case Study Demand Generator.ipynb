{
 "cells": [
  {
   "cell_type": "code",
   "execution_count": 1,
   "metadata": {},
   "outputs": [
    {
     "name": "stdout",
     "output_type": "stream",
     "text": [
      "[['Weeks', 'B15', 'C17', 'D20', 'D25', 'E26', 'F35'], [50.0, 5.0, 12.0, 2.0, 11.0, 4.0, 2.0], [49.0, 10.0, 14.0, 3.0, 2.0, 3.0, 1.0]]\n"
     ]
    }
   ],
   "source": [
    "import csv\n",
    "import random\n",
    "import math\n",
    "\n",
    "with open('demand.csv', 'r') as f:\n",
    "    demand = list(csv.reader(f, delimiter=','))\n",
    "demand = [r[:7] for r in demand]\n",
    "for r in range(1, len(demand)):\n",
    "    for c in range(len(demand[0])):\n",
    "        demand[r][c] = float(demand[r][c])\n",
    "demand[0][0] = 'Weeks'\n",
    "for r in range(1, len(demand)):\n",
    "    demand[r][0] = 51 - demand[r][0]\n",
    "\n",
    "tilt = [None, 0.09719, 0, 0.05830, 0, -0.07457, 0]\n",
    "\n",
    "print(demand[:3])"
   ]
  },
  {
   "cell_type": "code",
   "execution_count": 2,
   "metadata": {},
   "outputs": [],
   "source": [
    "residual = demand[:]\n",
    "\n",
    "for r in range(1, len(demand)):\n",
    "    for c in range(1, len(residual[0])):\n",
    "        residual[r][c] = residual[r][c] - residual[r][0]*tilt[c]\n",
    "\n",
    "def demand_gen(t=1, n99=False, history=False):\n",
    "    \"\"\"Generate future demand w/ linear model.\"\"\"\n",
    "    if history:\n",
    "        assert t >= 1 and t <= 50, \"t is out of range for historical data.\"\n",
    "        assert n99 == False, \"No N99 in historical data.\"\n",
    "        return [r[1:] for r in demand if r[0] == t][0]\n",
    "    t += 50\n",
    "    vector = list()\n",
    "    for c in range(1, len(residual[0])):\n",
    "        c_residual = [r[c] for r in residual[1:]]\n",
    "        c_predict = max(math.ceil(t*tilt[c] + random.choice(c_residual)), 0)\n",
    "        vector.append(c_predict)\n",
    "    if n99:    \n",
    "        vector.append(random.choice(range(2,7)))\n",
    "    return vector"
   ]
  },
  {
   "cell_type": "code",
   "execution_count": 3,
   "metadata": {},
   "outputs": [
    {
     "data": {
      "text/plain": [
       "[8, 12, 6, 7, 2, 0]"
      ]
     },
     "execution_count": 3,
     "metadata": {},
     "output_type": "execute_result"
    }
   ],
   "source": [
    "demand_gen()"
   ]
  },
  {
   "cell_type": "code",
   "execution_count": null,
   "metadata": {},
   "outputs": [],
   "source": []
  }
 ],
 "metadata": {
  "kernelspec": {
   "display_name": "Python 3",
   "language": "python",
   "name": "python3"
  },
  "language_info": {
   "codemirror_mode": {
    "name": "ipython",
    "version": 3
   },
   "file_extension": ".py",
   "mimetype": "text/x-python",
   "name": "python",
   "nbconvert_exporter": "python",
   "pygments_lexer": "ipython3",
   "version": "3.6.5"
  }
 },
 "nbformat": 4,
 "nbformat_minor": 2
}
